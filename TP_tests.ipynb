{
 "cells": [
  {
   "cell_type": "code",
   "execution_count": 63,
   "id": "63f3cc63",
   "metadata": {},
   "outputs": [],
   "source": [
    "from pyspark.sql import DataFrame\n",
    "from pyspark.sql.functions import col\n",
    "from pyspark.ml.feature import VectorAssembler, StandardScaler\n",
    "from pyspark.sql import DataFrame\n",
    "from pyspark.ml.stat import Correlation\n",
    "from pyspark.ml.feature import PCA, PCAModel\n",
    "import seaborn as sns\n",
    "import numpy as np\n",
    "from pyspark.ml.classification import LogisticRegression, LogisticRegressionModel\n",
    "from pyspark.ml.evaluation import BinaryClassificationEvaluator\n",
    "from pyspark.ml.tuning import CrossValidator, ParamGridBuilder\n",
    "import time\n",
    "from os.path import isdir\n",
    "from pyspark.mllib.evaluation import MulticlassMetrics\n",
    "import matplotlib.pyplot as plt\n",
    "from pyspark.ml.classification import RandomForestClassifier, RandomForestClassificationModel"
   ]
  },
  {
   "cell_type": "code",
   "execution_count": 64,
   "id": "dc231cea",
   "metadata": {},
   "outputs": [],
   "source": [
    "def assemble_features(dataframe: DataFrame, features_columns):\n",
    "    assembler = VectorAssembler(inputCols=features_columns, outputCol='features')\n",
    "    return assembler.transform(dataframe)\n",
    "\n",
    "\n",
    "def scale_features(dataframe: DataFrame, with_mean=True, with_std=True):\n",
    "    scaler = StandardScaler(inputCol='features', outputCol='scaled_features', withMean=with_mean, withStd=with_std).fit(\n",
    "        dataframe)\n",
    "    return scaler.transform(dataframe)\n",
    "\n",
    "\n",
    "def corr_features(dataframe: DataFrame, method='pearson'):\n",
    "    return Correlation.corr(dataframe, \"features\", method=method).head()[0].toArray()\n",
    "\n",
    "\n",
    "def write_training_time(path:str, training_time):\n",
    "    with open(\"{}/training_time.txt\".format(path), 'w') as f:\n",
    "        f.write('{:.2f}'.format(training_time))\n",
    "\n",
    "\n",
    "def read_training_time(path:str):\n",
    "    with open(\"{}/training_time.txt\".format(path)) as f:\n",
    "        result = float(f.read())\n",
    "    return result\n",
    "\n",
    "\n",
    "def read_models_number(path:str):\n",
    "    with open(\"{}/models_number.txt\".format(path)) as f:\n",
    "        result = int(f.read())\n",
    "    return result\n",
    "\n",
    "\n",
    "def write_models_number(path:str, models_number):\n",
    "    with open(\"{}/models_number.txt\".format(path), 'w') as f:\n",
    "        f.write(str(models_number))\n",
    "\n",
    "\n",
    "def show_best_model(model):\n",
    "    print(\"Got best {} among {} in {} seconds\".format(model.model_name, model.models_number, model.training_time))\n",
    "\n",
    "\n",
    "def show_confusion_matrix(predictions: DataFrame, model_name: str):\n",
    "    metrics = MulticlassMetrics(predictions.select('prediction', 'label').rdd)\n",
    "    print('Accuracy for {}: {:.2f}%'.format(model_name, metrics.accuracy*100))\n",
    "    sns.heatmap(metrics.confusionMatrix().toArray(), annot=True)\n",
    "    plt.savefig('{}.png'.format(model_name))\n",
    "    plt.show()\n",
    "\n",
    "\n",
    "def show_auc(predictions: DataFrame, model_name: str):\n",
    "    print(\"AUC for {}: {}\".format(model_name, BinaryClassificationEvaluator().evaluate(predictions)))\n",
    "\n",
    "\n",
    "def evaluate_model(df_test: DataFrame, model_builder):\n",
    "    lr_predictions = model_builder.model.transform(df_test)\n",
    "    show_auc(lr_predictions, model_builder.model_name)\n",
    "    show_confusion_matrix(lr_predictions, model_builder.model_name)\n",
    "\n"
   ]
  },
  {
   "cell_type": "code",
   "execution_count": 65,
   "id": "a7f49f1b",
   "metadata": {},
   "outputs": [],
   "source": [
    "breast_cancer_data = spark.read.options(header=True, inferSchema='True').csv(\"data/breast cancer.csv\")"
   ]
  },
  {
   "cell_type": "code",
   "execution_count": 66,
   "id": "fdf46bcf",
   "metadata": {},
   "outputs": [],
   "source": [
    "class Preprocessor:\n",
    "    def __init__(self, dataframe: DataFrame, true_condition, label_column: str, features_columns, normalize=True):\n",
    "        self.dataframe = assemble_features(dataframe, features_columns)\n",
    "        if normalize:\n",
    "            self.dataframe = scale_features(self.dataframe, True, True)\n",
    "        self.dataframe = self.dataframe.withColumn(\"label\", true_condition(col(label_column)))\n",
    "        features = col('scaled_features').alias('features') if normalize else col('features')\n",
    "        self.dataframe = self.dataframe.select(\"label\", features)"
   ]
  },
  {
   "cell_type": "code",
   "execution_count": 67,
   "id": "5904f523",
   "metadata": {},
   "outputs": [],
   "source": [
    "def preprocess_data(dataframe: DataFrame):\n",
    "    preprocessor = Preprocessor(dataframe, lambda d: (d == 'M').cast('float'), 'diagnosis', dataframe.columns[2:], True)\n",
    "    return preprocessor.dataframe\n",
    "\n",
    "\n",
    "def save_correlation_matrix(dataframe: DataFrame):\n",
    "    correlation_matrix = corr_features(dataframe)\n",
    "    sns.heatmap(correlation_matrix)\n",
    "    plt.savefig('correlation_matrix.png')\n",
    "    plt.show()"
   ]
  },
  {
   "cell_type": "code",
   "execution_count": 68,
   "id": "9d05821a",
   "metadata": {},
   "outputs": [
    {
     "name": "stdout",
     "output_type": "stream",
     "text": [
      "n_features:30\n"
     ]
    }
   ],
   "source": [
    "n_features = len(breast_cancer_data.columns[2:])\n",
    "print(\"n_features:{}\".format(n_features))\n",
    "df = preprocess_data(breast_cancer_data)"
   ]
  },
  {
   "cell_type": "code",
   "execution_count": 69,
   "id": "088c5d2f",
   "metadata": {},
   "outputs": [],
   "source": [
    "pca_model: PCAModel = PCA(k=n_features, inputCol='features', outputCol='pca_features').fit(df)"
   ]
  },
  {
   "cell_type": "code",
   "execution_count": 70,
   "id": "8b3fd275",
   "metadata": {},
   "outputs": [
    {
     "data": {
      "text/plain": [
       "0.9864881227145469"
      ]
     },
     "execution_count": 70,
     "metadata": {},
     "output_type": "execute_result"
    }
   ],
   "source": [
    "np.sum(pca_model.explainedVariance[:15])"
   ]
  },
  {
   "cell_type": "code",
   "execution_count": 71,
   "id": "95b0ecf4",
   "metadata": {},
   "outputs": [],
   "source": [
    "(df_train, df_test) = df.randomSplit([0.8, 0.2])"
   ]
  },
  {
   "cell_type": "code",
   "execution_count": 72,
   "id": "611c47c7",
   "metadata": {},
   "outputs": [],
   "source": [
    "class LogisticRegressionBuilder:\n",
    "    def __init__(self, training_df: DataFrame, model_name='Logistic Regression'):\n",
    "        self.model_name = model_name\n",
    "        if isdir(self.model_name):\n",
    "            self.model = LogisticRegressionModel.load(self.model_name)\n",
    "            self.training_time = read_training_time(self.model_name)\n",
    "            self.models_number = read_models_number(self.model_name)\n",
    "        else:\n",
    "            lr = LogisticRegression(maxIter=100, regParam=0.3, elasticNetParam=0.8)\n",
    "            param_grid = ParamGridBuilder() \\\n",
    "                .addGrid(lr.regParam, [0.1, 0.01, 0.001]) \\\n",
    "                .addGrid(lr.elasticNetParam, [0, 0.25, 0.5, 0.75, 1]) \\\n",
    "                .build()\n",
    "            cross_validation = CrossValidator(estimator=lr,\n",
    "                                              estimatorParamMaps=param_grid,\n",
    "                                              evaluator=BinaryClassificationEvaluator(),\n",
    "                                              numFolds=3)\n",
    "            self.models_number = len(param_grid)\n",
    "            start = time.time()\n",
    "            self.model = cross_validation.fit(training_df).bestModel\n",
    "            self.training_time = time.time() - start\n",
    "            self.model.save(self.model_name)\n",
    "            write_training_time(self.model_name, self.training_time)\n",
    "            write_models_number(self.model_name, self.models_number)\n",
    "        show_best_model(self)\n"
   ]
  },
  {
   "cell_type": "code",
   "execution_count": 73,
   "id": "2a761da1",
   "metadata": {},
   "outputs": [
    {
     "name": "stdout",
     "output_type": "stream",
     "text": [
      "Got best Logistic Regression among 15 in 66.8 seconds\n"
     ]
    }
   ],
   "source": [
    "lrb = LogisticRegressionBuilder(df_train)\n"
   ]
  },
  {
   "cell_type": "code",
   "execution_count": 74,
   "id": "e5ee1566",
   "metadata": {},
   "outputs": [
    {
     "name": "stdout",
     "output_type": "stream",
     "text": [
      "AUC for Logistic Regression: 0.9996138996138997\n",
      "Accuracy for Logistic Regression: 98.13%\n"
     ]
    },
    {
     "data": {
      "image/png": "[encoded data removed]",
      "text/plain": [
       "<Figure size 432x288 with 2 Axes>"
      ]
     },
     "metadata": {
      "needs_background": "light"
     },
     "output_type": "display_data"
    }
   ],
   "source": [
    "evaluate_model(df_test, lrb)"
   ]
  },
  {
   "cell_type": "code",
   "execution_count": 75,
   "id": "cebd0a51",
   "metadata": {},
   "outputs": [],
   "source": [
    "class RandomForestBuilder:\n",
    "    def __init__(self, df_train: DataFrame, model_name='Random Forest'):\n",
    "        self.model_name = model_name\n",
    "        if isdir(self.model_name):\n",
    "            self.model = RandomForestClassificationModel.load(self.model_name)\n",
    "            self.training_time = read_training_time(self.model_name)\n",
    "            self.models_number = read_models_number(self.model_name)\n",
    "        else:\n",
    "            rf = RandomForestClassifier(impurity='gini', numTrees=400)\n",
    "            param_grid = ParamGridBuilder() \\\n",
    "                .addGrid(rf.impurity, ['gini', 'entropy']) \\\n",
    "                .addGrid(rf.maxDepth, [3, 5, 10, 15, 20]) \\\n",
    "                .build()\n",
    "            cross_validation = CrossValidator(estimator=rf,\n",
    "                                              estimatorParamMaps=param_grid,\n",
    "                                              evaluator=BinaryClassificationEvaluator(),\n",
    "                                              numFolds=3)\n",
    "            self.models_number = len(param_grid)\n",
    "            start = time.time()\n",
    "            self.model = cross_validation.fit(df_train).bestModel\n",
    "            self.training_time = time.time() - start\n",
    "            self.model.save(self.model_name)\n",
    "            write_training_time(self.model_name, self.training_time)\n",
    "            write_models_number(self.model_name, self.models_number)\n",
    "        show_best_model(self)\n",
    "        "
   ]
  },
  {
   "cell_type": "code",
   "execution_count": 76,
   "id": "ef6fb917",
   "metadata": {},
   "outputs": [
    {
     "name": "stdout",
     "output_type": "stream",
     "text": [
      "Got best Random Forest among 10 in 48.43 seconds\n"
     ]
    }
   ],
   "source": [
    "rfb = RandomForestBuilder(df_train)"
   ]
  },
  {
   "cell_type": "code",
   "execution_count": 77,
   "id": "0d2f432a",
   "metadata": {},
   "outputs": [
    {
     "name": "stdout",
     "output_type": "stream",
     "text": [
      "AUC for Random Forest: 1.0\n",
      "Accuracy for Random Forest: 99.07%\n"
     ]
    },
    {
     "data": {
      "image/png": "[encoded data removed]",
      "text/plain": [
       "<Figure size 432x288 with 2 Axes>"
      ]
     },
     "metadata": {
      "needs_background": "light"
     },
     "output_type": "display_data"
    }
   ],
   "source": [
    "evaluate_model(df_test, rfb)"
   ]
  },
  {
   "cell_type": "code",
   "execution_count": 78,
   "id": "201c4e09",
   "metadata": {},
   "outputs": [],
   "source": [
    "from pyspark.ml.classification import LinearSVC, LinearSVCModel\n",
    "\n",
    "class SVMBuilder:\n",
    "    def __init__(self, training_df: DataFrame, model_name='Linear SVC'):\n",
    "        self.model_name = model_name\n",
    "        if isdir(self.model_name):\n",
    "            self.model = LinearSVCModel.load(self.model_name)\n",
    "            self.training_time = read_training_time(self.model_name)\n",
    "            self.models_number = read_models_number(self.model_name)\n",
    "        else:\n",
    "            svc = LinearSVC(maxIter=100, regParam=0.1)\n",
    "            param_grid = ParamGridBuilder() \\\n",
    "                .addGrid(svc.regParam, [0.001, 0.01, 0.1, 0.5, 1, 2, 5, 10, 50, 100]) \\\n",
    "                .build()\n",
    "            cross_validation = CrossValidator(estimator=svc,\n",
    "                                              estimatorParamMaps=param_grid,\n",
    "                                              evaluator=BinaryClassificationEvaluator(),\n",
    "                                              numFolds=3)\n",
    "            self.models_number = len(param_grid)\n",
    "            start = time.time()\n",
    "            self.model = cross_validation.fit(training_df).bestModel\n",
    "            self.training_time = time.time() - start\n",
    "            self.model.save(self.model_name)\n",
    "            write_training_time(self.model_name, self.training_time)\n",
    "            write_models_number(self.model_name, self.models_number)\n",
    "        show_best_model(self)"
   ]
  },
  {
   "cell_type": "code",
   "execution_count": 79,
   "id": "2e6878a4",
   "metadata": {},
   "outputs": [
    {
     "name": "stdout",
     "output_type": "stream",
     "text": [
      "Got best Linear SVC among 10 in 130.51 seconds\n"
     ]
    }
   ],
   "source": [
    "svm_builder = SVMBuilder(df_train)"
   ]
  },
  {
   "cell_type": "code",
   "execution_count": 80,
   "id": "3c1a33ab",
   "metadata": {},
   "outputs": [
    {
     "name": "stdout",
     "output_type": "stream",
     "text": [
      "AUC for Linear SVC: 0.9972972972972973\n",
      "Accuracy for Linear SVC: 97.20%\n"
     ]
    },
    {
     "data": {
      "image/png": "[encoded data removed]",
      "text/plain": [
       "<Figure size 432x288 with 2 Axes>"
      ]
     },
     "metadata": {
      "needs_background": "light"
     },
     "output_type": "display_data"
    }
   ],
   "source": [
    "evaluate_model(df_test, svm_builder)"
   ]
  },
  {
   "cell_type": "code",
   "execution_count": 81,
   "id": "0998a623",
   "metadata": {},
   "outputs": [
    {
     "data": {
      "text/plain": [
       "0.01"
      ]
     },
     "execution_count": 81,
     "metadata": {},
     "output_type": "execute_result"
    }
   ],
   "source": [
    "svm_builder.model.getRegParam()"
   ]
  },
  {
   "cell_type": "code",
   "execution_count": 82,
   "id": "0dbf27b1",
   "metadata": {},
   "outputs": [],
   "source": [
    "from pyspark.ml.classification import MultilayerPerceptronClassifier, MultilayerPerceptronClassificationModel\n",
    "\n",
    "class MLPBuilder:\n",
    "    def __init__(self, training_df: DataFrame, n_features, model_name='MLP'):\n",
    "        self.model_name = model_name\n",
    "        if isdir(self.model_name):\n",
    "            self.model = MultilayerPerceptronClassificationModel.load(self.model_name)\n",
    "            self.training_time = read_training_time(self.model_name)\n",
    "            self.models_number = read_models_number(self.model_name)\n",
    "        else:\n",
    "            mlp = MultilayerPerceptronClassifier(maxIter=100, stepSize=0.1, layers=[30, 2])\n",
    "            param_grid = ParamGridBuilder() \\\n",
    "                .addGrid(mlp.stepSize, [0.001, 0.01, 0.1]) \\\n",
    "                .addGrid(mlp.layers, [[n_features, 2], [n_features, n_features*2, 2],\n",
    "                                      [n_features, n_features*2, n_features*2, 2],\n",
    "                                      [n_features, n_features*2, n_features*4, n_features, 2]]) \\\n",
    "                .build()\n",
    "            cross_validation = CrossValidator(estimator=mlp,\n",
    "                                              estimatorParamMaps=param_grid,\n",
    "                                              evaluator=BinaryClassificationEvaluator(),\n",
    "                                              numFolds=3)\n",
    "            self.models_number = len(param_grid)\n",
    "            start = time.time()\n",
    "            self.model = cross_validation.fit(training_df).bestModel\n",
    "            self.training_time = time.time() - start\n",
    "            self.model.save(self.model_name)\n",
    "            write_training_time(self.model_name, self.training_time)\n",
    "            write_models_number(self.model_name, self.models_number)\n",
    "        show_best_model(self)"
   ]
  },
  {
   "cell_type": "code",
   "execution_count": 83,
   "id": "5c068b4b",
   "metadata": {},
   "outputs": [
    {
     "name": "stdout",
     "output_type": "stream",
     "text": [
      "Got best MLP among 12 in 58.36 seconds\n"
     ]
    }
   ],
   "source": [
    "mlp_builder = MLPBuilder(df_train, n_features)"
   ]
  },
  {
   "cell_type": "code",
   "execution_count": 84,
   "id": "277c4965",
   "metadata": {},
   "outputs": [
    {
     "data": {
      "text/plain": [
       "[30, 64, 2]"
      ]
     },
     "execution_count": 84,
     "metadata": {},
     "output_type": "execute_result"
    }
   ],
   "source": [
    "mlp_builder.model.getLayers()"
   ]
  },
  {
   "cell_type": "code",
   "execution_count": 85,
   "id": "89d6f8ae",
   "metadata": {},
   "outputs": [
    {
     "name": "stdout",
     "output_type": "stream",
     "text": [
      "AUC for MLP: 1.0\n",
      "Accuracy for MLP: 100.00%\n"
     ]
    },
    {
     "data": {
      "image/png": "[encoded data removed]",
      "text/plain": [
       "<Figure size 432x288 with 2 Axes>"
      ]
     },
     "metadata": {
      "needs_background": "light"
     },
     "output_type": "display_data"
    }
   ],
   "source": [
    "evaluate_model(df_test, mlp_builder)"
   ]
  },
  {
   "cell_type": "code",
   "execution_count": null,
   "id": "7ddb8c7d",
   "metadata": {},
   "outputs": [],
   "source": []
  }
 ],
 "metadata": {
  "kernelspec": {
   "display_name": "Python 3",
   "language": "python",
   "name": "python3"
  },
  "language_info": {
   "codemirror_mode": {
    "name": "ipython",
    "version": 3
   },
   "file_extension": ".py",
   "mimetype": "text/x-python",
   "name": "python",
   "nbconvert_exporter": "python",
   "pygments_lexer": "ipython3",
   "version": "3.8.8"
  },
  "toc": {
   "base_numbering": 1,
   "nav_menu": {},
   "number_sections": false,
   "sideBar": false,
   "skip_h1_title": false,
   "title_cell": "Table of Contents",
   "title_sidebar": "Contents",
   "toc_cell": false,
   "toc_position": {},
   "toc_section_display": false,
   "toc_window_display": false
  }
 },
 "nbformat": 4,
 "nbformat_minor": 5
}
